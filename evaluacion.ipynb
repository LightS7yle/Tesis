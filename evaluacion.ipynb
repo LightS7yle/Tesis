{
 "cells": [
  {
   "cell_type": "code",
   "execution_count": 1,
   "id": "4a7fac3f",
   "metadata": {},
   "outputs": [],
   "source": [
    "import pandas as pd\n",
    "df = pd.read_csv(\"qa.csv\")"
   ]
  },
  {
   "cell_type": "code",
   "execution_count": 7,
   "id": "7133303c",
   "metadata": {},
   "outputs": [
    {
     "data": {
      "text/html": [
       "<div>\n",
       "<style scoped>\n",
       "    .dataframe tbody tr th:only-of-type {\n",
       "        vertical-align: middle;\n",
       "    }\n",
       "\n",
       "    .dataframe tbody tr th {\n",
       "        vertical-align: top;\n",
       "    }\n",
       "\n",
       "    .dataframe thead th {\n",
       "        text-align: right;\n",
       "    }\n",
       "</style>\n",
       "<table border=\"1\" class=\"dataframe\">\n",
       "  <thead>\n",
       "    <tr style=\"text-align: right;\">\n",
       "      <th></th>\n",
       "      <th>chunk</th>\n",
       "      <th>question</th>\n",
       "      <th>answer</th>\n",
       "      <th>answer_modelo</th>\n",
       "      <th>retrieved</th>\n",
       "      <th>claims_phi4</th>\n",
       "    </tr>\n",
       "  </thead>\n",
       "  <tbody>\n",
       "    <tr>\n",
       "      <th>0</th>\n",
       "      <td>seawater seawater tds mgl considered standard ...</td>\n",
       "      <td>What types of water are classified based on To...</td>\n",
       "      <td>Water is classified into categories like seawa...</td>\n",
       "      <td>The context provided does not explicitly class...</td>\n",
       "      <td>[{\"titulo\": \"7.5 RO FOULING substance (anaysis...</td>\n",
       "      <td>['Seawater has TDS levels of 35,000 ppm.', 'Fr...</td>\n",
       "    </tr>\n",
       "    <tr>\n",
       "      <th>1</th>\n",
       "      <td>recovery limit salinity andor boron concentrat...</td>\n",
       "      <td>Why is it important to limit product recovery ...</td>\n",
       "      <td>Limiting product recovery is important to ensu...</td>\n",
       "      <td>Limiting product recovery in RO (Reverse Osmos...</td>\n",
       "      <td>[{\"titulo\": \"7.5 RO FOULING substance (anaysis...</td>\n",
       "      <td>['Limiting product recovery in RO systems is i...</td>\n",
       "    </tr>\n",
       "    <tr>\n",
       "      <th>2</th>\n",
       "      <td>design boynton beach fl membrane softening wat...</td>\n",
       "      <td>How is the maximum recovery value determined f...</td>\n",
       "      <td>The maximum recovery value is determined by co...</td>\n",
       "      <td>The maximum recovery value for membrane soften...</td>\n",
       "      <td>[{\"titulo\": \"7.5 RO FOULING substance (anaysis...</td>\n",
       "      <td>['The maximum recovery value for membrane soft...</td>\n",
       "    </tr>\n",
       "    <tr>\n",
       "      <th>3</th>\n",
       "      <td>range rather absolute value temperature variat...</td>\n",
       "      <td>Why is average temperature used for performanc...</td>\n",
       "      <td>Average temperature is used because membrane p...</td>\n",
       "      <td>The average temperature is used for performanc...</td>\n",
       "      <td>[{\"titulo\": \"7.5 RO FOULING substance (anaysis...</td>\n",
       "      <td>['The average temperature is used for performa...</td>\n",
       "    </tr>\n",
       "    <tr>\n",
       "      <th>4</th>\n",
       "      <td>risk scaling due water scarcity environmental ...</td>\n",
       "      <td>Why must scaling substances be removed from tr...</td>\n",
       "      <td>Even after secondary treatment, wastewater can...</td>\n",
       "      <td>Scaling substances must be removed from treate...</td>\n",
       "      <td>[{\"titulo\": \"7.5 RO FOULING substance (anaysis...</td>\n",
       "      <td>['Scaling substances must be removed from trea...</td>\n",
       "    </tr>\n",
       "  </tbody>\n",
       "</table>\n",
       "</div>"
      ],
      "text/plain": [
       "                                               chunk  \\\n",
       "0  seawater seawater tds mgl considered standard ...   \n",
       "1  recovery limit salinity andor boron concentrat...   \n",
       "2  design boynton beach fl membrane softening wat...   \n",
       "3  range rather absolute value temperature variat...   \n",
       "4  risk scaling due water scarcity environmental ...   \n",
       "\n",
       "                                            question  \\\n",
       "0  What types of water are classified based on To...   \n",
       "1  Why is it important to limit product recovery ...   \n",
       "2  How is the maximum recovery value determined f...   \n",
       "3  Why is average temperature used for performanc...   \n",
       "4  Why must scaling substances be removed from tr...   \n",
       "\n",
       "                                              answer  \\\n",
       "0  Water is classified into categories like seawa...   \n",
       "1  Limiting product recovery is important to ensu...   \n",
       "2  The maximum recovery value is determined by co...   \n",
       "3  Average temperature is used because membrane p...   \n",
       "4  Even after secondary treatment, wastewater can...   \n",
       "\n",
       "                                       answer_modelo  \\\n",
       "0  The context provided does not explicitly class...   \n",
       "1  Limiting product recovery in RO (Reverse Osmos...   \n",
       "2  The maximum recovery value for membrane soften...   \n",
       "3  The average temperature is used for performanc...   \n",
       "4  Scaling substances must be removed from treate...   \n",
       "\n",
       "                                           retrieved  \\\n",
       "0  [{\"titulo\": \"7.5 RO FOULING substance (anaysis...   \n",
       "1  [{\"titulo\": \"7.5 RO FOULING substance (anaysis...   \n",
       "2  [{\"titulo\": \"7.5 RO FOULING substance (anaysis...   \n",
       "3  [{\"titulo\": \"7.5 RO FOULING substance (anaysis...   \n",
       "4  [{\"titulo\": \"7.5 RO FOULING substance (anaysis...   \n",
       "\n",
       "                                         claims_phi4  \n",
       "0  ['Seawater has TDS levels of 35,000 ppm.', 'Fr...  \n",
       "1  ['Limiting product recovery in RO systems is i...  \n",
       "2  ['The maximum recovery value for membrane soft...  \n",
       "3  ['The average temperature is used for performa...  \n",
       "4  ['Scaling substances must be removed from trea...  "
      ]
     },
     "execution_count": 7,
     "metadata": {},
     "output_type": "execute_result"
    }
   ],
   "source": [
    "df.head()"
   ]
  },
  {
   "cell_type": "code",
   "execution_count": 25,
   "id": "96ae54ea",
   "metadata": {},
   "outputs": [
    {
     "data": {
      "text/html": [
       "<div>\n",
       "<style scoped>\n",
       "    .dataframe tbody tr th:only-of-type {\n",
       "        vertical-align: middle;\n",
       "    }\n",
       "\n",
       "    .dataframe tbody tr th {\n",
       "        vertical-align: top;\n",
       "    }\n",
       "\n",
       "    .dataframe thead th {\n",
       "        text-align: right;\n",
       "    }\n",
       "</style>\n",
       "<table border=\"1\" class=\"dataframe\">\n",
       "  <thead>\n",
       "    <tr style=\"text-align: right;\">\n",
       "      <th></th>\n",
       "      <th>chunk</th>\n",
       "      <th>question</th>\n",
       "      <th>answer</th>\n",
       "      <th>answer_modelo</th>\n",
       "      <th>retrieved</th>\n",
       "      <th>claims_phi4</th>\n",
       "    </tr>\n",
       "  </thead>\n",
       "  <tbody>\n",
       "    <tr>\n",
       "      <th>count</th>\n",
       "      <td>260</td>\n",
       "      <td>260</td>\n",
       "      <td>260</td>\n",
       "      <td>260</td>\n",
       "      <td>260</td>\n",
       "      <td>260</td>\n",
       "    </tr>\n",
       "    <tr>\n",
       "      <th>unique</th>\n",
       "      <td>260</td>\n",
       "      <td>260</td>\n",
       "      <td>260</td>\n",
       "      <td>260</td>\n",
       "      <td>232</td>\n",
       "      <td>245</td>\n",
       "    </tr>\n",
       "    <tr>\n",
       "      <th>top</th>\n",
       "      <td>seawater seawater tds mgl considered standard ...</td>\n",
       "      <td>What types of water are classified based on To...</td>\n",
       "      <td>Water is classified into categories like seawa...</td>\n",
       "      <td>The context provided does not explicitly class...</td>\n",
       "      <td>[{\"titulo\": \"7.5 RO FOULING substance (anaysis...</td>\n",
       "      <td>['Mary is a five-year-old girl.', 'Mary likes ...</td>\n",
       "    </tr>\n",
       "    <tr>\n",
       "      <th>freq</th>\n",
       "      <td>1</td>\n",
       "      <td>1</td>\n",
       "      <td>1</td>\n",
       "      <td>1</td>\n",
       "      <td>5</td>\n",
       "      <td>16</td>\n",
       "    </tr>\n",
       "  </tbody>\n",
       "</table>\n",
       "</div>"
      ],
      "text/plain": [
       "                                                    chunk  \\\n",
       "count                                                 260   \n",
       "unique                                                260   \n",
       "top     seawater seawater tds mgl considered standard ...   \n",
       "freq                                                    1   \n",
       "\n",
       "                                                 question  \\\n",
       "count                                                 260   \n",
       "unique                                                260   \n",
       "top     What types of water are classified based on To...   \n",
       "freq                                                    1   \n",
       "\n",
       "                                                   answer  \\\n",
       "count                                                 260   \n",
       "unique                                                260   \n",
       "top     Water is classified into categories like seawa...   \n",
       "freq                                                    1   \n",
       "\n",
       "                                            answer_modelo  \\\n",
       "count                                                 260   \n",
       "unique                                                260   \n",
       "top     The context provided does not explicitly class...   \n",
       "freq                                                    1   \n",
       "\n",
       "                                                retrieved  \\\n",
       "count                                                 260   \n",
       "unique                                                232   \n",
       "top     [{\"titulo\": \"7.5 RO FOULING substance (anaysis...   \n",
       "freq                                                    5   \n",
       "\n",
       "                                              claims_phi4  \n",
       "count                                                 260  \n",
       "unique                                                245  \n",
       "top     ['Mary is a five-year-old girl.', 'Mary likes ...  \n",
       "freq                                                   16  "
      ]
     },
     "execution_count": 25,
     "metadata": {},
     "output_type": "execute_result"
    }
   ],
   "source": [
    "df.describe()"
   ]
  },
  {
   "cell_type": "code",
   "execution_count": 13,
   "id": "c6f138f4",
   "metadata": {},
   "outputs": [
    {
     "name": "stdout",
     "output_type": "stream",
     "text": [
      "chunk            combined residual chlorine (CRC) refers to chl...\n",
      "question             What does CRC stand for in chlorinated water?\n",
      "answer           It denotes the portion of chlorine bound to ni...\n",
      "answer_modelo    CRC stands for Combined Residual Chlorine in c...\n",
      "retrieved        [{\"titulo\": \"7.5 RO FOULING substance (anaysis...\n",
      "claims_phi4      ['CRC stands for Combined Residual Chlorine in...\n",
      "Name: 242, dtype: object\n"
     ]
    }
   ],
   "source": [
    "\n",
    "idx_min = df['answer_modelo'].str.len().idxmin()\n",
    "\n",
    "# Mostrar el registro completo\n",
    "respuesta_mas_corta = df.loc[idx_min]\n",
    "print(respuesta_mas_corta)"
   ]
  },
  {
   "cell_type": "code",
   "execution_count": 14,
   "id": "9fa6488d",
   "metadata": {},
   "outputs": [
    {
     "data": {
      "text/plain": [
       "'CRC stands for Combined Residual Chlorine in chlorinated water.'"
      ]
     },
     "execution_count": 14,
     "metadata": {},
     "output_type": "execute_result"
    }
   ],
   "source": [
    "df.answer_modelo[idx_min]"
   ]
  },
  {
   "cell_type": "code",
   "execution_count": 19,
   "id": "702b9121",
   "metadata": {},
   "outputs": [
    {
     "data": {
      "text/plain": [
       "[{'titulo': '7.5 RO FOULING substance (anaysis solution).pdf',\n",
       "  'chunk': 'cl as discussed later chloramines are formed from the reaction of chlorine with ammonia compounds present in the water these chlorineammonia compounds are referred to as combined available chlorine cac page of trademark of the dow chemical company form no of or combined residual chlorine crc the sum of free and combined availableresidual chlorine is called the total residual chlorine trc trc fac cac frc crc the germicidal efficiency of free residual chlorine is directly related to the concentration of undissociated hocl hypochlorous acid is times more effective than the hypochlorite ion ocl the fraction of undissociated hocl increases with decreasing ph at ph f c mgl tds only of free residual chlorine is present as hocl but is present at ph the fraction of hocl also increases with decreasing temperature at f c the hocl mole fraction is ph mgl tds in highsalinity waters less hocl is present at ph c mgl tds chlorine demand a part of the chlorine dosage reacts with ammonia nitrogen to combined available chlorine in a series of stepwise reactions hocl nh nhcl monochloramine ho hocl nhcl nhcl dichloramine ho hocl nhcl ncl trichloramine ho these reactions are governed primarily by ph and chlorinetonitrogen'},\n",
       " {'titulo': '7.5 RO FOULING substance (anaysis solution).pdf',\n",
       "  'chunk': 'water chlorination for ronf pretreatment has been applied usually where biological fouling prevention is required ie typically for surface waters chlorine is added continuously at the intake and a reaction time of min should be allowed a free residual chlorine concentration of mgl should be maintained through the whole pretreatment line dechlorination upstream of the membranes is required however to protect the membranes from oxidation filmtec membrane can withstand shortterm exposure to free chlorine hypochlorite however its resistance is limited the membrane can be used successfully in installations where system upsets result in temporary exposure to free chlorine eventual degradation may occur after approximately hours of exposure to ppm concentrations of free chlorine the rate of chlorine attack depends on various feed water characteristics under alkaline ph conditions chlorine attack is faster than at neutral or acidic ph chlorine attack is also faster when iron or other transition metals are present either in the water or on the membrane surface these metals catalyze membrane degradation because of the risk of membrane oxidation chlorine is not recommended for intentionally sanitizing membrane systems continuous chlorination and dechlorination of the feedwater has been standard for years biofouling problems downstream of the point of'},\n",
       " {'titulo': '7.5 RO FOULING substance (anaysis solution).pdf',\n",
       "  'chunk': 'dechlorination however are quite common it is believed that chlorine reacts with the organic matter in the water and breaks it down to more biodegradable fragments since there is no chlorine present on the membranes microorganisms can grow with an enhanced nutrient offering unless the system is sanitized very frequently therefore the continuous chlorinationdechlorination method is becoming less popular instead of continuous chlorination chlorine is preferably applied offline to the pretreatment section periodically during off line chlorination the feedwater has to be sent to drain prior to reaching the membranes before the system goes into operation again all chlorine containing feed water has to be rinsed out carefully and the absence of chlorine must be verified eg by monitoring of the oxidationredox potential orp chlorination chemistry chlorine is most commonly available as chlorine gas and the hypochlorites of sodium and calcium in water they hydrolyze instantaneously to hypochlorous acid cl ho hocl hcl naocl ho hocl naoh caocl ho hocl caoh hypochlorous acid dissociates in water to hydrogen ions and hypochlorite ions hocl h ocl the sum of cl naocl caocl hocl and ocl is referred to as free available chlorine fac or free residual chlorine frc expressed as mgl'},\n",
       " {'titulo': '7.5 RO FOULING substance (anaysis solution).pdf',\n",
       "  'chunk': 'removing residual free chlorine by pretreatment prior to exposure of the feed water to the membrane other oxidizing agents such as chlorine dioxide hydrogen peroxide ozone and permanganate are capable of damaging ronf membranes also if not used properly residual free chlorine can be reduced to harmless chlorides by activated carbon or chemical reducing agents an activated carbon bed is very effective in the dechlorination of ro feed water according to following reaction c cl ho hcl co sodium metabisulfite smbs is commonly used for removal of free chlorine and as a biostatic other chemical reducing agents exist eg sulfur dioxide but they are not as costeffective as smbs when dissolved in water sodium bisulfite sbs is formed from smbs naso ho nahso sbs then reduces hypochlorous acid according to nahso hocl hso hcl naso in theory mg of sodium metabisulfite will remove mg of free chlorine in practice however mg of sodium metabisulfite is normally used to remove mg of chlorine the smbs should be of foodgrade quality and free of impurities smbs should not be cobaltactivated solid sodium metabisulfite has a typical shelf life of months under cool dry storage conditions in aqueous solutions however sodium bisulfite can'},\n",
       " {'titulo': '7.5 RO FOULING substance (anaysis solution).pdf',\n",
       "  'chunk': 'weight ratio chloramine also has a germicidal effect albeit lower than that of chlorine another part of the chlorine is converted to nonavailable chlorine this chlorine demand is caused by the reaction with reducing agents such as nitrite cyanide sulfide ferrous iron and manganese chlorine is also consumed by the oxidation of organic compounds present in the water to determine the optimum chlorine dosage best point of injection ph and contact time to prevent biofouling astm d should be applied to a representative water sample for further details the handbook of chlorination is recommended seawater the major difference between the chlorination chemistry of seawater and that of brackish water is the presence of bromide in seawater in concentrations of typically mgl bromide reacts rapidly with hypochlorous acid to form hypobromous acid br hocl hobr cl thus in chlorinated seawater the biocide is predominantly hobr rather than hocl hypobromous acid then dissociates to hypobromite ion as follows hobr obr h hobr dissociation is less than hocl dissociation at ph where of hocl is dissociated about of hobr is dissociated in other words effective treatment can be performed at a higher ph than in brackish water where no bromide is present both'}]"
      ]
     },
     "execution_count": 19,
     "metadata": {},
     "output_type": "execute_result"
    }
   ],
   "source": [
    "import json\n",
    "retrieved = df.retrieved[idx_min]\n",
    "chunks = json.loads(retrieved)\n",
    "chunks"
   ]
  },
  {
   "cell_type": "code",
   "execution_count": 15,
   "id": "67dddffe",
   "metadata": {},
   "outputs": [
    {
     "name": "stdout",
     "output_type": "stream",
     "text": [
      "242\n"
     ]
    }
   ],
   "source": [
    "print(idx_min)"
   ]
  },
  {
   "cell_type": "code",
   "execution_count": 16,
   "id": "9218a134",
   "metadata": {},
   "outputs": [
    {
     "data": {
      "text/plain": [
       "\"['CRC stands for Combined Residual Chlorine in chlorinated water.']\""
      ]
     },
     "execution_count": 16,
     "metadata": {},
     "output_type": "execute_result"
    }
   ],
   "source": [
    "df.claims_phi4[idx_min]"
   ]
  },
  {
   "cell_type": "code",
   "execution_count": null,
   "id": "0a1de787",
   "metadata": {},
   "outputs": [
    {
     "data": {
      "text/plain": [
       "'What does CRC stand for in chlorinated water?'"
      ]
     },
     "execution_count": 17,
     "metadata": {},
     "output_type": "execute_result"
    }
   ],
   "source": [
    "df.question[242]"
   ]
  },
  {
   "cell_type": "markdown",
   "id": "663b2abe",
   "metadata": {},
   "source": [
    "### Long Form"
   ]
  },
  {
   "cell_type": "code",
   "execution_count": 49,
   "id": "dc09ff36",
   "metadata": {},
   "outputs": [
    {
     "name": "stdout",
     "output_type": "stream",
     "text": [
      "                                                 chunk  \\\n",
      "30   sampling points include intake clarifier filte...   \n",
      "242  combined residual chlorine (CRC) refers to chl...   \n",
      "\n",
      "                                              question  \\\n",
      "30   Where and how often should microbial samples b...   \n",
      "242      What does CRC stand for in chlorinated water?   \n",
      "\n",
      "                                                answer  \\\n",
      "30   Sampling should be done at key points like int...   \n",
      "242  It denotes the portion of chlorine bound to ni...   \n",
      "\n",
      "                                         answer_modelo  \\\n",
      "30   Microbial samples in RO systems should be take...   \n",
      "242  CRC stands for Combined Residual Chlorine in c...   \n",
      "\n",
      "                                             retrieved  \\\n",
      "30   [{\"titulo\": \"7.5 RO FOULING substance (anaysis...   \n",
      "242  [{\"titulo\": \"7.5 RO FOULING substance (anaysis...   \n",
      "\n",
      "                                           claims_phi4  \n",
      "30   ['Microbial samples in RO systems should be ta...  \n",
      "242  ['CRC stands for Combined Residual Chlorine in...  \n"
     ]
    }
   ],
   "source": [
    "min_len = 0\n",
    "max_len = 200\n",
    "\n",
    "# Filtrar respuestas con longitud dentro del rango\n",
    "filtro = df[df['answer_modelo'].str.len().between(min_len, max_len)]\n",
    "print(filtro)"
   ]
  },
  {
   "cell_type": "code",
   "execution_count": 50,
   "id": "d3d8897f",
   "metadata": {},
   "outputs": [
    {
     "data": {
      "text/plain": [
       "'Microbial samples in RO systems should be taken at the feed water point daily and at all other points weekly. This frequency is recommended to monitor and manage the risk of biofouling effectively.'"
      ]
     },
     "execution_count": 50,
     "metadata": {},
     "output_type": "execute_result"
    }
   ],
   "source": [
    "idx = 30\n",
    "df.answer_modelo[idx]"
   ]
  },
  {
   "cell_type": "code",
   "execution_count": 51,
   "id": "11353176",
   "metadata": {},
   "outputs": [
    {
     "data": {
      "text/plain": [
       "'Where and how often should microbial samples be taken in RO systems?'"
      ]
     },
     "execution_count": 51,
     "metadata": {},
     "output_type": "execute_result"
    }
   ],
   "source": [
    "df.question[idx]"
   ]
  },
  {
   "cell_type": "code",
   "execution_count": 52,
   "id": "70b81a59",
   "metadata": {},
   "outputs": [
    {
     "data": {
      "text/plain": [
       "\"['Microbial samples in RO systems should be taken at the feed water point daily.', 'Microbial samples in RO systems should be taken at all other points weekly.', 'The frequency of taking microbial samples is recommended to monitor and manage the risk of biofouling effectively.']\""
      ]
     },
     "execution_count": 52,
     "metadata": {},
     "output_type": "execute_result"
    }
   ],
   "source": [
    "df.claims_phi4[idx]"
   ]
  },
  {
   "cell_type": "code",
   "execution_count": 53,
   "id": "289818ef",
   "metadata": {},
   "outputs": [
    {
     "data": {
      "text/plain": [
       "[{'titulo': '7.5 RO FOULING substance (anaysis solution).pdf',\n",
       "  'chunk': 'if the laboratory equipment needed for analysis of the microbiological samples page of trademark of the dow chemical company form no of is not available at the ro plant site an adequate laboratory should be found to perform the needed analysis not later than hours after sampling samples should be stored in a refrigerator the minimum number of sampling points required is listed below intake surface or well before addition of any chemicals after a clarifier settling pond sludge contact unit or similar sedimentation process after filtration units sand multimedia activated carbon or other just before the membranes after addition of chemicals normally after cartridge filtration concentrate stream permeate stream the frequency of sampling and analysis depends on the risk of biofouling for surface water plants a daily check of the feed water point and a weekly check of all points are recommended culture techniques the concentration of bacteria in water is directly related to the biological fouling potential of the water the number of colony forming units cfu is a quantitative expression of the number of culturable microorganisms in a water sample it is determined according to part of the standard methods by filtering a measured quantity of water'},\n",
       " {'titulo': '7.5 RO FOULING substance (anaysis solution).pdf',\n",
       "  'chunk': 'ro systems operating with biologically active feed water a biofilm can appear within days after inoculation with viable organisms consequently the most common frequency of sanitization is every days during peak biological activity summer and about every days during low biological activity winter the optimal frequency for sanitization will be site specific and must be determined by the operating characteristics of the ro system the standard method to apply dbnpa is slug intermittent dosing the amount of dbnpa used depends on the severity of the biological fouling with a water less prone to biological fouling using mgl of the active ingredient for minutes to hours every days can be effective because dbnpa is deactivated by reducing agents such as sodium bisulfite used for chlorine removal a higher concentration of dbnpa will be required if there is residual reducing agent in the feed water the concentration of dbnpa should be increased by ppm of active ingredient for every ppm of residual reducing agent in the ro feed water to remove the dead biofilm an alkaline cleaning is also recommended see section biofouling biocides their degradation products and other ingredients in their formulations are not always completely rejected by ro membranes for'},\n",
       " {'titulo': '7.5 RO FOULING substance (anaysis solution).pdf',\n",
       "  'chunk': 'ability of microorganisms to reproduce and form a biofilm under favorable conditions microorganisms entering a ronf system find a large membrane surface where dissolved nutrients from the water are enriched due to concentration polarization thus creating an ideal environment for the formation of a biofilm biological fouling of the membranes may seriously affect the performance of the ro system the symptoms are an increase in the differential pressure from feed to concentrate finally leading to telescoping and mechanical damage of the membrane elements see section high differential pressure and a decline in membrane flux sometimes biofouling develops even on the permeate side thus contaminating the product water a biofilm is difficult to remove because it protects its microorganisms against the action of shear forces and biocidal chemicals in addition if not completely removed remaining parts of a biofilm lead to a rapid regrowth biological fouling prevention is therefore a major objective of the pretreatment process the control of microbiological activity is also part of system design see section system design considerations to control microbiological activity in the system operation see chapter system operation in the sanitization of systems see section sanitizing membrane systems and in the preservation of systems see'},\n",
       " {'titulo': '7.5 RO FOULING substance (anaysis solution).pdf',\n",
       "  'chunk': 'stream of the filter in this case however measures have to be taken to ensure that no permanganate can reach the membranes eg by installation of a carbon filter see section chlorinationdechlorination birm filtration has also been used effectively for fe removal from ro feed water with birm filtration a ph increase and consequently a shift in the lsi value might occur so care should be taken to avoid caco precipitation in the filter and in the ro system instead of media filtration microfiltration or ultrafiltration see section can be used to remove small iron and manganese hydroxide particles formed from an oxidation process this is a rather new technology for iron and manganese removal the pretreatment of anoxic waters is described in more detail in sections and inline filtration the efficiency of media filtration to reduce the sdi value can be markedly improved if the colloids in the raw water are coagulated andor flocculated prior to filtration inline filtration can be applied to raw waters with a sdi only slightly above the optimization of the method also named inline coagulation or inline coagulationflocculation is described in astm d a coagulant is injected into the raw water stream effectively mixed'},\n",
       " {'titulo': '7.5 RO FOULING substance (anaysis solution).pdf',\n",
       "  'chunk': 'water chlorination for ronf pretreatment has been applied usually where biological fouling prevention is required ie typically for surface waters chlorine is added continuously at the intake and a reaction time of min should be allowed a free residual chlorine concentration of mgl should be maintained through the whole pretreatment line dechlorination upstream of the membranes is required however to protect the membranes from oxidation filmtec membrane can withstand shortterm exposure to free chlorine hypochlorite however its resistance is limited the membrane can be used successfully in installations where system upsets result in temporary exposure to free chlorine eventual degradation may occur after approximately hours of exposure to ppm concentrations of free chlorine the rate of chlorine attack depends on various feed water characteristics under alkaline ph conditions chlorine attack is faster than at neutral or acidic ph chlorine attack is also faster when iron or other transition metals are present either in the water or on the membrane surface these metals catalyze membrane degradation because of the risk of membrane oxidation chlorine is not recommended for intentionally sanitizing membrane systems continuous chlorination and dechlorination of the feedwater has been standard for years biofouling problems downstream of the point of'}]"
      ]
     },
     "execution_count": 53,
     "metadata": {},
     "output_type": "execute_result"
    }
   ],
   "source": [
    "import json\n",
    "retrieved = df.retrieved[idx]\n",
    "chunks = json.loads(retrieved)\n",
    "chunks"
   ]
  },
  {
   "cell_type": "code",
   "execution_count": 48,
   "id": "f2d6c815",
   "metadata": {},
   "outputs": [],
   "source": [
    "df_bert = pd.read_csv(\"evaluacion_con_bert.csv\")\n",
    "df_franq = pd.read_csv(\"evaluacion_rag_con_franq.csv\")\n",
    "df_rouge = pd.read_csv(\"evaluacion_con_rouge.csv\")"
   ]
  },
  {
   "cell_type": "code",
   "execution_count": 4,
   "id": "4d7aba57",
   "metadata": {},
   "outputs": [
    {
     "data": {
      "text/html": [
       "<div>\n",
       "<style scoped>\n",
       "    .dataframe tbody tr th:only-of-type {\n",
       "        vertical-align: middle;\n",
       "    }\n",
       "\n",
       "    .dataframe tbody tr th {\n",
       "        vertical-align: top;\n",
       "    }\n",
       "\n",
       "    .dataframe thead th {\n",
       "        text-align: right;\n",
       "    }\n",
       "</style>\n",
       "<table border=\"1\" class=\"dataframe\">\n",
       "  <thead>\n",
       "    <tr style=\"text-align: right;\">\n",
       "      <th></th>\n",
       "      <th>chunk</th>\n",
       "      <th>question</th>\n",
       "      <th>answer</th>\n",
       "      <th>answer_modelo_rag</th>\n",
       "      <th>retrieved</th>\n",
       "      <th>PRECISION</th>\n",
       "      <th>RECALL</th>\n",
       "      <th>F1</th>\n",
       "    </tr>\n",
       "  </thead>\n",
       "  <tbody>\n",
       "    <tr>\n",
       "      <th>0</th>\n",
       "      <td>seawater seawater tds mgl considered standard ...</td>\n",
       "      <td>What types of water are classified based on To...</td>\n",
       "      <td>Water is classified into categories like seawa...</td>\n",
       "      <td>Water can be classified based on Total Dissolv...</td>\n",
       "      <td>[{\"titulo\": \"7.5 RO FOULING substance (anaysis...</td>\n",
       "      <td>0.811075</td>\n",
       "      <td>0.884561</td>\n",
       "      <td>0.846226</td>\n",
       "    </tr>\n",
       "    <tr>\n",
       "      <th>1</th>\n",
       "      <td>recovery limit salinity andor boron concentrat...</td>\n",
       "      <td>Why is it important to limit product recovery ...</td>\n",
       "      <td>Limiting product recovery is important to ensu...</td>\n",
       "      <td>Limiting product recovery in RO (Reverse Osmos...</td>\n",
       "      <td>[{\"titulo\": \"7.5 RO FOULING substance (anaysis...</td>\n",
       "      <td>0.839549</td>\n",
       "      <td>0.882755</td>\n",
       "      <td>0.860610</td>\n",
       "    </tr>\n",
       "    <tr>\n",
       "      <th>2</th>\n",
       "      <td>design boynton beach fl membrane softening wat...</td>\n",
       "      <td>How is the maximum recovery value determined f...</td>\n",
       "      <td>The maximum recovery value is determined by co...</td>\n",
       "      <td>The maximum recovery value for membrane soften...</td>\n",
       "      <td>[{\"titulo\": \"7.5 RO FOULING substance (anaysis...</td>\n",
       "      <td>0.846103</td>\n",
       "      <td>0.897172</td>\n",
       "      <td>0.870889</td>\n",
       "    </tr>\n",
       "    <tr>\n",
       "      <th>3</th>\n",
       "      <td>range rather absolute value temperature variat...</td>\n",
       "      <td>Why is average temperature used for performanc...</td>\n",
       "      <td>Average temperature is used because membrane p...</td>\n",
       "      <td>The average temperature is used for performanc...</td>\n",
       "      <td>[{\"titulo\": \"7.5 RO FOULING substance (anaysis...</td>\n",
       "      <td>0.866068</td>\n",
       "      <td>0.911727</td>\n",
       "      <td>0.888311</td>\n",
       "    </tr>\n",
       "    <tr>\n",
       "      <th>4</th>\n",
       "      <td>risk scaling due water scarcity environmental ...</td>\n",
       "      <td>Why must scaling substances be removed from tr...</td>\n",
       "      <td>Even after secondary treatment, wastewater can...</td>\n",
       "      <td>Scaling substances must be removed from treate...</td>\n",
       "      <td>[{\"titulo\": \"7.5 RO FOULING substance (anaysis...</td>\n",
       "      <td>0.848641</td>\n",
       "      <td>0.899772</td>\n",
       "      <td>0.873459</td>\n",
       "    </tr>\n",
       "  </tbody>\n",
       "</table>\n",
       "</div>"
      ],
      "text/plain": [
       "                                               chunk  \\\n",
       "0  seawater seawater tds mgl considered standard ...   \n",
       "1  recovery limit salinity andor boron concentrat...   \n",
       "2  design boynton beach fl membrane softening wat...   \n",
       "3  range rather absolute value temperature variat...   \n",
       "4  risk scaling due water scarcity environmental ...   \n",
       "\n",
       "                                            question  \\\n",
       "0  What types of water are classified based on To...   \n",
       "1  Why is it important to limit product recovery ...   \n",
       "2  How is the maximum recovery value determined f...   \n",
       "3  Why is average temperature used for performanc...   \n",
       "4  Why must scaling substances be removed from tr...   \n",
       "\n",
       "                                              answer  \\\n",
       "0  Water is classified into categories like seawa...   \n",
       "1  Limiting product recovery is important to ensu...   \n",
       "2  The maximum recovery value is determined by co...   \n",
       "3  Average temperature is used because membrane p...   \n",
       "4  Even after secondary treatment, wastewater can...   \n",
       "\n",
       "                                   answer_modelo_rag  \\\n",
       "0  Water can be classified based on Total Dissolv...   \n",
       "1  Limiting product recovery in RO (Reverse Osmos...   \n",
       "2  The maximum recovery value for membrane soften...   \n",
       "3  The average temperature is used for performanc...   \n",
       "4  Scaling substances must be removed from treate...   \n",
       "\n",
       "                                           retrieved  PRECISION    RECALL  \\\n",
       "0  [{\"titulo\": \"7.5 RO FOULING substance (anaysis...   0.811075  0.884561   \n",
       "1  [{\"titulo\": \"7.5 RO FOULING substance (anaysis...   0.839549  0.882755   \n",
       "2  [{\"titulo\": \"7.5 RO FOULING substance (anaysis...   0.846103  0.897172   \n",
       "3  [{\"titulo\": \"7.5 RO FOULING substance (anaysis...   0.866068  0.911727   \n",
       "4  [{\"titulo\": \"7.5 RO FOULING substance (anaysis...   0.848641  0.899772   \n",
       "\n",
       "         F1  \n",
       "0  0.846226  \n",
       "1  0.860610  \n",
       "2  0.870889  \n",
       "3  0.888311  \n",
       "4  0.873459  "
      ]
     },
     "execution_count": 4,
     "metadata": {},
     "output_type": "execute_result"
    }
   ],
   "source": [
    "df_bert.head()"
   ]
  },
  {
   "cell_type": "code",
   "execution_count": 5,
   "id": "fdfca939",
   "metadata": {},
   "outputs": [
    {
     "data": {
      "text/html": [
       "<div>\n",
       "<style scoped>\n",
       "    .dataframe tbody tr th:only-of-type {\n",
       "        vertical-align: middle;\n",
       "    }\n",
       "\n",
       "    .dataframe tbody tr th {\n",
       "        vertical-align: top;\n",
       "    }\n",
       "\n",
       "    .dataframe thead th {\n",
       "        text-align: right;\n",
       "    }\n",
       "</style>\n",
       "<table border=\"1\" class=\"dataframe\">\n",
       "  <thead>\n",
       "    <tr style=\"text-align: right;\">\n",
       "      <th></th>\n",
       "      <th>chunk</th>\n",
       "      <th>question</th>\n",
       "      <th>answer</th>\n",
       "      <th>answer_modelo_rag</th>\n",
       "      <th>retrieved</th>\n",
       "      <th>ROUGE-1</th>\n",
       "      <th>ROUGE-2</th>\n",
       "      <th>ROUGE-L</th>\n",
       "    </tr>\n",
       "  </thead>\n",
       "  <tbody>\n",
       "    <tr>\n",
       "      <th>0</th>\n",
       "      <td>seawater seawater tds mgl considered standard ...</td>\n",
       "      <td>What types of water are classified based on To...</td>\n",
       "      <td>Water is classified into categories like seawa...</td>\n",
       "      <td>Water can be classified based on Total Dissolv...</td>\n",
       "      <td>[{\"titulo\": \"7.5 RO FOULING substance (anaysis...</td>\n",
       "      <td>0.244186</td>\n",
       "      <td>0.058824</td>\n",
       "      <td>0.174419</td>\n",
       "    </tr>\n",
       "    <tr>\n",
       "      <th>1</th>\n",
       "      <td>recovery limit salinity andor boron concentrat...</td>\n",
       "      <td>Why is it important to limit product recovery ...</td>\n",
       "      <td>Limiting product recovery is important to ensu...</td>\n",
       "      <td>Limiting product recovery in RO (Reverse Osmos...</td>\n",
       "      <td>[{\"titulo\": \"7.5 RO FOULING substance (anaysis...</td>\n",
       "      <td>0.153061</td>\n",
       "      <td>0.072165</td>\n",
       "      <td>0.122449</td>\n",
       "    </tr>\n",
       "    <tr>\n",
       "      <th>2</th>\n",
       "      <td>design boynton beach fl membrane softening wat...</td>\n",
       "      <td>How is the maximum recovery value determined f...</td>\n",
       "      <td>The maximum recovery value is determined by co...</td>\n",
       "      <td>The maximum recovery value for membrane soften...</td>\n",
       "      <td>[{\"titulo\": \"7.5 RO FOULING substance (anaysis...</td>\n",
       "      <td>0.198758</td>\n",
       "      <td>0.088050</td>\n",
       "      <td>0.173913</td>\n",
       "    </tr>\n",
       "    <tr>\n",
       "      <th>3</th>\n",
       "      <td>range rather absolute value temperature variat...</td>\n",
       "      <td>Why is average temperature used for performanc...</td>\n",
       "      <td>Average temperature is used because membrane p...</td>\n",
       "      <td>The average temperature is used for performanc...</td>\n",
       "      <td>[{\"titulo\": \"7.5 RO FOULING substance (anaysis...</td>\n",
       "      <td>0.306452</td>\n",
       "      <td>0.131148</td>\n",
       "      <td>0.274194</td>\n",
       "    </tr>\n",
       "    <tr>\n",
       "      <th>4</th>\n",
       "      <td>risk scaling due water scarcity environmental ...</td>\n",
       "      <td>Why must scaling substances be removed from tr...</td>\n",
       "      <td>Even after secondary treatment, wastewater can...</td>\n",
       "      <td>Scaling substances must be removed from treate...</td>\n",
       "      <td>[{\"titulo\": \"7.5 RO FOULING substance (anaysis...</td>\n",
       "      <td>0.215190</td>\n",
       "      <td>0.051282</td>\n",
       "      <td>0.126582</td>\n",
       "    </tr>\n",
       "  </tbody>\n",
       "</table>\n",
       "</div>"
      ],
      "text/plain": [
       "                                               chunk  \\\n",
       "0  seawater seawater tds mgl considered standard ...   \n",
       "1  recovery limit salinity andor boron concentrat...   \n",
       "2  design boynton beach fl membrane softening wat...   \n",
       "3  range rather absolute value temperature variat...   \n",
       "4  risk scaling due water scarcity environmental ...   \n",
       "\n",
       "                                            question  \\\n",
       "0  What types of water are classified based on To...   \n",
       "1  Why is it important to limit product recovery ...   \n",
       "2  How is the maximum recovery value determined f...   \n",
       "3  Why is average temperature used for performanc...   \n",
       "4  Why must scaling substances be removed from tr...   \n",
       "\n",
       "                                              answer  \\\n",
       "0  Water is classified into categories like seawa...   \n",
       "1  Limiting product recovery is important to ensu...   \n",
       "2  The maximum recovery value is determined by co...   \n",
       "3  Average temperature is used because membrane p...   \n",
       "4  Even after secondary treatment, wastewater can...   \n",
       "\n",
       "                                   answer_modelo_rag  \\\n",
       "0  Water can be classified based on Total Dissolv...   \n",
       "1  Limiting product recovery in RO (Reverse Osmos...   \n",
       "2  The maximum recovery value for membrane soften...   \n",
       "3  The average temperature is used for performanc...   \n",
       "4  Scaling substances must be removed from treate...   \n",
       "\n",
       "                                           retrieved   ROUGE-1   ROUGE-2  \\\n",
       "0  [{\"titulo\": \"7.5 RO FOULING substance (anaysis...  0.244186  0.058824   \n",
       "1  [{\"titulo\": \"7.5 RO FOULING substance (anaysis...  0.153061  0.072165   \n",
       "2  [{\"titulo\": \"7.5 RO FOULING substance (anaysis...  0.198758  0.088050   \n",
       "3  [{\"titulo\": \"7.5 RO FOULING substance (anaysis...  0.306452  0.131148   \n",
       "4  [{\"titulo\": \"7.5 RO FOULING substance (anaysis...  0.215190  0.051282   \n",
       "\n",
       "    ROUGE-L  \n",
       "0  0.174419  \n",
       "1  0.122449  \n",
       "2  0.173913  \n",
       "3  0.274194  \n",
       "4  0.126582  "
      ]
     },
     "execution_count": 5,
     "metadata": {},
     "output_type": "execute_result"
    }
   ],
   "source": [
    "df_rouge.head()"
   ]
  },
  {
   "cell_type": "code",
   "execution_count": 6,
   "id": "9d9ba6fa",
   "metadata": {},
   "outputs": [
    {
     "data": {
      "text/html": [
       "<div>\n",
       "<style scoped>\n",
       "    .dataframe tbody tr th:only-of-type {\n",
       "        vertical-align: middle;\n",
       "    }\n",
       "\n",
       "    .dataframe tbody tr th {\n",
       "        vertical-align: top;\n",
       "    }\n",
       "\n",
       "    .dataframe thead th {\n",
       "        text-align: right;\n",
       "    }\n",
       "</style>\n",
       "<table border=\"1\" class=\"dataframe\">\n",
       "  <thead>\n",
       "    <tr style=\"text-align: right;\">\n",
       "      <th></th>\n",
       "      <th>chunk</th>\n",
       "      <th>question</th>\n",
       "      <th>answer</th>\n",
       "      <th>answer_modelo_rag</th>\n",
       "      <th>retrieved</th>\n",
       "      <th>claims_phi4</th>\n",
       "      <th>0</th>\n",
       "    </tr>\n",
       "  </thead>\n",
       "  <tbody>\n",
       "    <tr>\n",
       "      <th>0</th>\n",
       "      <td>seawater seawater tds mgl considered standard ...</td>\n",
       "      <td>What types of water are classified based on To...</td>\n",
       "      <td>Water is classified into categories like seawa...</td>\n",
       "      <td>Water can be classified based on Total Dissolv...</td>\n",
       "      <td>[{\"titulo\": \"7.5 RO FOULING substance (anaysis...</td>\n",
       "      <td>['Water can be classified based on Total Disso...</td>\n",
       "      <td>0.923167</td>\n",
       "    </tr>\n",
       "    <tr>\n",
       "      <th>1</th>\n",
       "      <td>recovery limit salinity andor boron concentrat...</td>\n",
       "      <td>Why is it important to limit product recovery ...</td>\n",
       "      <td>Limiting product recovery is important to ensu...</td>\n",
       "      <td>Limiting product recovery in RO (Reverse Osmos...</td>\n",
       "      <td>[{\"titulo\": \"7.5 RO FOULING substance (anaysis...</td>\n",
       "      <td>['Limiting product recovery in RO systems is i...</td>\n",
       "      <td>0.908828</td>\n",
       "    </tr>\n",
       "    <tr>\n",
       "      <th>2</th>\n",
       "      <td>design boynton beach fl membrane softening wat...</td>\n",
       "      <td>How is the maximum recovery value determined f...</td>\n",
       "      <td>The maximum recovery value is determined by co...</td>\n",
       "      <td>The maximum recovery value for membrane soften...</td>\n",
       "      <td>[{\"titulo\": \"7.5 RO FOULING substance (anaysis...</td>\n",
       "      <td>['The maximum recovery value for membrane soft...</td>\n",
       "      <td>0.980916</td>\n",
       "    </tr>\n",
       "    <tr>\n",
       "      <th>3</th>\n",
       "      <td>range rather absolute value temperature variat...</td>\n",
       "      <td>Why is average temperature used for performanc...</td>\n",
       "      <td>Average temperature is used because membrane p...</td>\n",
       "      <td>The average temperature is used for performanc...</td>\n",
       "      <td>[{\"titulo\": \"7.5 RO FOULING substance (anaysis...</td>\n",
       "      <td>['The performance of RO membranes is temperatu...</td>\n",
       "      <td>0.966632</td>\n",
       "    </tr>\n",
       "    <tr>\n",
       "      <th>4</th>\n",
       "      <td>risk scaling due water scarcity environmental ...</td>\n",
       "      <td>Why must scaling substances be removed from tr...</td>\n",
       "      <td>Even after secondary treatment, wastewater can...</td>\n",
       "      <td>Scaling substances must be removed from treate...</td>\n",
       "      <td>[{\"titulo\": \"7.5 RO FOULING substance (anaysis...</td>\n",
       "      <td>['Scaling substances must be removed from trea...</td>\n",
       "      <td>0.960459</td>\n",
       "    </tr>\n",
       "  </tbody>\n",
       "</table>\n",
       "</div>"
      ],
      "text/plain": [
       "                                               chunk  \\\n",
       "0  seawater seawater tds mgl considered standard ...   \n",
       "1  recovery limit salinity andor boron concentrat...   \n",
       "2  design boynton beach fl membrane softening wat...   \n",
       "3  range rather absolute value temperature variat...   \n",
       "4  risk scaling due water scarcity environmental ...   \n",
       "\n",
       "                                            question  \\\n",
       "0  What types of water are classified based on To...   \n",
       "1  Why is it important to limit product recovery ...   \n",
       "2  How is the maximum recovery value determined f...   \n",
       "3  Why is average temperature used for performanc...   \n",
       "4  Why must scaling substances be removed from tr...   \n",
       "\n",
       "                                              answer  \\\n",
       "0  Water is classified into categories like seawa...   \n",
       "1  Limiting product recovery is important to ensu...   \n",
       "2  The maximum recovery value is determined by co...   \n",
       "3  Average temperature is used because membrane p...   \n",
       "4  Even after secondary treatment, wastewater can...   \n",
       "\n",
       "                                   answer_modelo_rag  \\\n",
       "0  Water can be classified based on Total Dissolv...   \n",
       "1  Limiting product recovery in RO (Reverse Osmos...   \n",
       "2  The maximum recovery value for membrane soften...   \n",
       "3  The average temperature is used for performanc...   \n",
       "4  Scaling substances must be removed from treate...   \n",
       "\n",
       "                                           retrieved  \\\n",
       "0  [{\"titulo\": \"7.5 RO FOULING substance (anaysis...   \n",
       "1  [{\"titulo\": \"7.5 RO FOULING substance (anaysis...   \n",
       "2  [{\"titulo\": \"7.5 RO FOULING substance (anaysis...   \n",
       "3  [{\"titulo\": \"7.5 RO FOULING substance (anaysis...   \n",
       "4  [{\"titulo\": \"7.5 RO FOULING substance (anaysis...   \n",
       "\n",
       "                                         claims_phi4         0  \n",
       "0  ['Water can be classified based on Total Disso...  0.923167  \n",
       "1  ['Limiting product recovery in RO systems is i...  0.908828  \n",
       "2  ['The maximum recovery value for membrane soft...  0.980916  \n",
       "3  ['The performance of RO membranes is temperatu...  0.966632  \n",
       "4  ['Scaling substances must be removed from trea...  0.960459  "
      ]
     },
     "execution_count": 6,
     "metadata": {},
     "output_type": "execute_result"
    }
   ],
   "source": [
    "df_franq.head()"
   ]
  },
  {
   "cell_type": "code",
   "execution_count": 52,
   "id": "f0645c3c",
   "metadata": {},
   "outputs": [],
   "source": [
    "df_comb = pd.concat([\n",
    "    df_bert[[\"question\"]],\n",
    "    df_bert[[\"PRECISION\"]],\n",
    "    df_bert[[\"RECALL\"]],\n",
    "    df_bert[[\"F1\"]],\n",
    "    df_franq[[\"0\"]],\n",
    "    df_rouge[[\"ROUGE-1\"]],\n",
    "    df_rouge[[\"ROUGE-2\"]],\n",
    "    df_rouge[[\"ROUGE-L\"]]\n",
    "], axis=1)"
   ]
  },
  {
   "cell_type": "code",
   "execution_count": 53,
   "id": "df9f953d",
   "metadata": {},
   "outputs": [],
   "source": [
    "df_comb.rename(columns={\"0\": \"FRANQ\"}, inplace=True)"
   ]
  },
  {
   "cell_type": "code",
   "execution_count": 55,
   "id": "a20341bd",
   "metadata": {},
   "outputs": [
    {
     "data": {
      "text/html": [
       "<div>\n",
       "<style scoped>\n",
       "    .dataframe tbody tr th:only-of-type {\n",
       "        vertical-align: middle;\n",
       "    }\n",
       "\n",
       "    .dataframe tbody tr th {\n",
       "        vertical-align: top;\n",
       "    }\n",
       "\n",
       "    .dataframe thead th {\n",
       "        text-align: right;\n",
       "    }\n",
       "</style>\n",
       "<table border=\"1\" class=\"dataframe\">\n",
       "  <thead>\n",
       "    <tr style=\"text-align: right;\">\n",
       "      <th></th>\n",
       "      <th>question</th>\n",
       "      <th>PRECISION</th>\n",
       "      <th>RECALL</th>\n",
       "      <th>F1</th>\n",
       "      <th>FRANQ</th>\n",
       "      <th>ROUGE-1</th>\n",
       "      <th>ROUGE-2</th>\n",
       "      <th>ROUGE-L</th>\n",
       "    </tr>\n",
       "  </thead>\n",
       "  <tbody>\n",
       "    <tr>\n",
       "      <th>0</th>\n",
       "      <td>What types of water are classified based on To...</td>\n",
       "      <td>0.783743</td>\n",
       "      <td>0.850091</td>\n",
       "      <td>0.815570</td>\n",
       "      <td>0.923167</td>\n",
       "      <td>0.177606</td>\n",
       "      <td>0.038911</td>\n",
       "      <td>0.108108</td>\n",
       "    </tr>\n",
       "    <tr>\n",
       "      <th>1</th>\n",
       "      <td>Why is it important to limit product recovery ...</td>\n",
       "      <td>0.813159</td>\n",
       "      <td>0.871822</td>\n",
       "      <td>0.841469</td>\n",
       "      <td>0.908828</td>\n",
       "      <td>0.152091</td>\n",
       "      <td>0.038314</td>\n",
       "      <td>0.114068</td>\n",
       "    </tr>\n",
       "    <tr>\n",
       "      <th>2</th>\n",
       "      <td>How is the maximum recovery value determined f...</td>\n",
       "      <td>0.801137</td>\n",
       "      <td>0.873413</td>\n",
       "      <td>0.835715</td>\n",
       "      <td>0.980916</td>\n",
       "      <td>0.143426</td>\n",
       "      <td>0.048193</td>\n",
       "      <td>0.111554</td>\n",
       "    </tr>\n",
       "    <tr>\n",
       "      <th>3</th>\n",
       "      <td>Why is average temperature used for performanc...</td>\n",
       "      <td>0.805194</td>\n",
       "      <td>0.873872</td>\n",
       "      <td>0.838129</td>\n",
       "      <td>0.966632</td>\n",
       "      <td>0.159091</td>\n",
       "      <td>0.030534</td>\n",
       "      <td>0.090909</td>\n",
       "    </tr>\n",
       "    <tr>\n",
       "      <th>4</th>\n",
       "      <td>Why must scaling substances be removed from tr...</td>\n",
       "      <td>0.812015</td>\n",
       "      <td>0.873517</td>\n",
       "      <td>0.841644</td>\n",
       "      <td>0.960459</td>\n",
       "      <td>0.103704</td>\n",
       "      <td>0.029851</td>\n",
       "      <td>0.081481</td>\n",
       "    </tr>\n",
       "  </tbody>\n",
       "</table>\n",
       "</div>"
      ],
      "text/plain": [
       "                                            question  PRECISION    RECALL  \\\n",
       "0  What types of water are classified based on To...   0.783743  0.850091   \n",
       "1  Why is it important to limit product recovery ...   0.813159  0.871822   \n",
       "2  How is the maximum recovery value determined f...   0.801137  0.873413   \n",
       "3  Why is average temperature used for performanc...   0.805194  0.873872   \n",
       "4  Why must scaling substances be removed from tr...   0.812015  0.873517   \n",
       "\n",
       "         F1     FRANQ   ROUGE-1   ROUGE-2   ROUGE-L  \n",
       "0  0.815570  0.923167  0.177606  0.038911  0.108108  \n",
       "1  0.841469  0.908828  0.152091  0.038314  0.114068  \n",
       "2  0.835715  0.980916  0.143426  0.048193  0.111554  \n",
       "3  0.838129  0.966632  0.159091  0.030534  0.090909  \n",
       "4  0.841644  0.960459  0.103704  0.029851  0.081481  "
      ]
     },
     "execution_count": 55,
     "metadata": {},
     "output_type": "execute_result"
    }
   ],
   "source": [
    "df_comb.head()"
   ]
  },
  {
   "cell_type": "code",
   "execution_count": 45,
   "id": "72577ad5",
   "metadata": {},
   "outputs": [],
   "source": [
    "mean_P=[]\n",
    "mean_R=[]\n",
    "mean_F1=[]\n",
    "mean_FRANQ=[]\n",
    "mean_ROUGE_1=[]\n",
    "mean_ROUGE_2=[]\n",
    "mean_ROUGE_L=[]\n",
    "mean_P.append(df_comb[\"PRECISION\"].mean().round(4))\n",
    "mean_R.append(df_comb[\"RECALL\"].mean().round(3))\n",
    "mean_F1.append(df_comb[\"F1\"].mean().round(3))\n",
    "mean_FRANQ.append(df_comb[\"FRANQ\"].mean().round(3))\n",
    "mean_ROUGE_1.append(df_comb[\"ROUGE-1\"].mean().round(3))\n",
    "mean_ROUGE_2.append(df_comb[\"ROUGE-2\"].mean().round(3))\n",
    "mean_ROUGE_L.append(df_comb[\"ROUGE-L\"].mean().round(3))\n",
    "\n",
    "df_mean = pd.DataFrame({\n",
    "    \"PRECISION\": mean_P,\n",
    "    \"RECALL\": mean_R,\n",
    "    \"F1\": mean_F1,\n",
    "    \"FRANQ\": mean_FRANQ,\n",
    "    \"ROUGE-1\": mean_ROUGE_1,\n",
    "    \"ROUGE-2\": mean_ROUGE_2,\n",
    "    \"ROUGE-L\": mean_ROUGE_L,\n",
    "  \n",
    "})\n"
   ]
  },
  {
   "cell_type": "code",
   "execution_count": 40,
   "id": "fa81eb3d",
   "metadata": {},
   "outputs": [
    {
     "data": {
      "text/html": [
       "<div>\n",
       "<style scoped>\n",
       "    .dataframe tbody tr th:only-of-type {\n",
       "        vertical-align: middle;\n",
       "    }\n",
       "\n",
       "    .dataframe tbody tr th {\n",
       "        vertical-align: top;\n",
       "    }\n",
       "\n",
       "    .dataframe thead th {\n",
       "        text-align: right;\n",
       "    }\n",
       "</style>\n",
       "<table border=\"1\" class=\"dataframe\">\n",
       "  <thead>\n",
       "    <tr style=\"text-align: right;\">\n",
       "      <th></th>\n",
       "      <th>PRECISION</th>\n",
       "      <th>RECALL</th>\n",
       "      <th>F1</th>\n",
       "      <th>FRANQ</th>\n",
       "      <th>ROUGE-1</th>\n",
       "      <th>ROUGE-2</th>\n",
       "      <th>ROUGE-L</th>\n",
       "    </tr>\n",
       "  </thead>\n",
       "  <tbody>\n",
       "    <tr>\n",
       "      <th>0</th>\n",
       "      <td>0.8221</td>\n",
       "      <td>0.885</td>\n",
       "      <td>0.852</td>\n",
       "      <td>0.874</td>\n",
       "      <td>0.146</td>\n",
       "      <td>0.038</td>\n",
       "      <td>0.112</td>\n",
       "    </tr>\n",
       "  </tbody>\n",
       "</table>\n",
       "</div>"
      ],
      "text/plain": [
       "   PRECISION  RECALL     F1  FRANQ  ROUGE-1  ROUGE-2  ROUGE-L\n",
       "0     0.8221   0.885  0.852  0.874    0.146    0.038    0.112"
      ]
     },
     "execution_count": 40,
     "metadata": {},
     "output_type": "execute_result"
    }
   ],
   "source": [
    "df_mean.head()"
   ]
  }
 ],
 "metadata": {
  "kernelspec": {
   "display_name": "venv",
   "language": "python",
   "name": "python3"
  },
  "language_info": {
   "codemirror_mode": {
    "name": "ipython",
    "version": 3
   },
   "file_extension": ".py",
   "mimetype": "text/x-python",
   "name": "python",
   "nbconvert_exporter": "python",
   "pygments_lexer": "ipython3",
   "version": "3.12.2"
  }
 },
 "nbformat": 4,
 "nbformat_minor": 5
}
